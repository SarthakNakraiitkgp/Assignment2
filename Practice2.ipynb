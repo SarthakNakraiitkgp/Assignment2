{
 "cells": [
  {
   "cell_type": "markdown",
   "id": "335e0aaf-672c-4f17-a02c-8432e9aefa14",
   "metadata": {},
   "source": [
    "1\n"
   ]
  },
  {
   "cell_type": "code",
   "execution_count": 6,
   "id": "362a2efd-f329-47a1-b03f-545d11e97462",
   "metadata": {},
   "outputs": [
    {
     "name": "stdin",
     "output_type": "stream",
     "text": [
      "Enter your marks:  88\n"
     ]
    },
    {
     "name": "stdout",
     "output_type": "stream",
     "text": [
      "Your Grade is B\n"
     ]
    }
   ],
   "source": [
    "marks=float(input(\"Enter your marks: \"))\n",
    "if marks>90:\n",
    "    print(\" Your Grade is A\")\n",
    "elif marks>80 and marks<=90:\n",
    "    print(\"Your Grade is B\")\n",
    "elif marks>=60 and marks<=80:\n",
    "    print(\"Your Grade is C\")\n",
    "else:\n",
    "    print(\"Your Grade is D\")"
   ]
  },
  {
   "cell_type": "markdown",
   "id": "e5992f5b-aac5-4601-ba3b-337f12b25b9a",
   "metadata": {},
   "source": [
    "2"
   ]
  },
  {
   "cell_type": "code",
   "execution_count": 8,
   "id": "f9b8a53c-90c5-4709-bf04-293b6af0cca9",
   "metadata": {},
   "outputs": [
    {
     "name": "stdin",
     "output_type": "stream",
     "text": [
      "Enter Your Bike Cost :  100000\n"
     ]
    },
    {
     "name": "stdout",
     "output_type": "stream",
     "text": [
      "Road Tax you have to pay is 10% \n"
     ]
    }
   ],
   "source": [
    "cost=int(input(\"Enter Your Bike Cost : \"))\n",
    "if cost>100000:\n",
    "    print(\"Road Tax you have to pay is 15% \")\n",
    "elif cost > 50000 and cost <= 100000:\n",
    "    print(\"Road Tax you have to pay is 10% \")\n",
    "else:\n",
    "    print(\"Road Tax you have to pay is 5% \")"
   ]
  },
  {
   "cell_type": "markdown",
   "id": "4a2dd980-052a-411a-9356-1898c512ca9b",
   "metadata": {},
   "source": [
    "3"
   ]
  },
  {
   "cell_type": "code",
   "execution_count": 11,
   "id": "b3c322a4-f324-4e5e-b067-7d2d35a66158",
   "metadata": {},
   "outputs": [
    {
     "name": "stdin",
     "output_type": "stream",
     "text": [
      "Enter the Name of the City Agra\n"
     ]
    },
    {
     "name": "stdout",
     "output_type": "stream",
     "text": [
      "The Monument of this city is Taj Mahal\n"
     ]
    }
   ],
   "source": [
    "city=input(\"Enter the Name of the City\")\n",
    "if city==\"Delhi\":\n",
    "    print(\"The Monument of this city is Red Fort\")\n",
    "elif city==\"Agra\":\n",
    "    print(\"The Monument of this city is Taj Mahal\")\n",
    "elif city==\"Jaipur\":\n",
    "    print(\"The Monument of this city is Jal Mahal\")\n",
    "else:\n",
    "    print(\"Enter correct city Name\")"
   ]
  },
  {
   "cell_type": "markdown",
   "id": "ebaa576a-cf73-4fb6-ad7c-7c5cd9a10c00",
   "metadata": {},
   "source": [
    "4"
   ]
  },
  {
   "cell_type": "code",
   "execution_count": 11,
   "id": "70c524ca-bca4-47ae-a834-34799220981d",
   "metadata": {},
   "outputs": [
    {
     "name": "stdin",
     "output_type": "stream",
     "text": [
      "Enter a number:  150\n"
     ]
    },
    {
     "name": "stdout",
     "output_type": "stream",
     "text": [
      "3\n"
     ]
    }
   ],
   "source": [
    "count=0\n",
    "x=int(input(\"Enter a number: \"))\n",
    "while x>10:\n",
    "    count+=1\n",
    "    x=x/3\n",
    "print(count)"
   ]
  },
  {
   "cell_type": "markdown",
   "id": "848d86a3-fa3c-4879-9a56-ae2c7a087477",
   "metadata": {},
   "source": [
    "5. while loop is used to run a block of code until a certain condition is met. A while loop evaluates a condition, if the condition evaluates to be True then the code imside the while loop will be executed. it is mainly used when a repeated code is been executed n number of times until the condition is satisfied.For example:"
   ]
  },
  {
   "cell_type": "code",
   "execution_count": 2,
   "id": "85dc4df0-e701-4405-9eee-1278d24c2a52",
   "metadata": {},
   "outputs": [
    {
     "name": "stdout",
     "output_type": "stream",
     "text": [
      "1\n",
      "2\n",
      "3\n",
      "4\n",
      "5\n"
     ]
    }
   ],
   "source": [
    "i=1\n",
    "while i<=5:\n",
    "    print(i)\n",
    "    i+=1"
   ]
  },
  {
   "cell_type": "markdown",
   "id": "54503cc5-d9f0-4e37-ba08-f55c0acb3325",
   "metadata": {},
   "source": [
    "6. Three examples of nested while loop are as follows:"
   ]
  },
  {
   "cell_type": "code",
   "execution_count": 3,
   "id": "c7e977c1-fb33-4438-ba01-8b148c1b2f8a",
   "metadata": {},
   "outputs": [
    {
     "name": "stdout",
     "output_type": "stream",
     "text": [
      "1  \n",
      "1 2  \n",
      "1 2 3  \n",
      "1 2 3 4  \n",
      "1 2 3 4 5  \n"
     ]
    }
   ],
   "source": [
    "i=1\n",
    "while i<=5:\n",
    "    j=1\n",
    "    while j<=i:\n",
    "        print(j,end=\" \")\n",
    "        j+=1\n",
    "    print(\" \")\n",
    "    i+=1"
   ]
  },
  {
   "cell_type": "code",
   "execution_count": 4,
   "id": "9dd6b03b-6d16-4c72-9a7c-503ce1f08ef5",
   "metadata": {},
   "outputs": [
    {
     "name": "stdout",
     "output_type": "stream",
     "text": [
      "* * * * * \n",
      "* * * * \n",
      "* * * \n",
      "* * \n",
      "* \n"
     ]
    }
   ],
   "source": [
    "i=1\n",
    "while i<=5:\n",
    "    j=5\n",
    "    while j>=i:\n",
    "        print(\"*\",end=\" \")\n",
    "        j-=1\n",
    "    print()\n",
    "    i+=1"
   ]
  },
  {
   "cell_type": "code",
   "execution_count": 5,
   "id": "59f3be45-8288-4d3a-b4d0-dc24eb8dacfb",
   "metadata": {},
   "outputs": [
    {
     "name": "stdin",
     "output_type": "stream",
     "text": [
      "enter the number of rows  6\n"
     ]
    },
    {
     "name": "stdout",
     "output_type": "stream",
     "text": [
      "* \n",
      "* * \n",
      "* * * \n",
      "* * * * \n",
      "* * * * * \n",
      "* * * * * * \n"
     ]
    }
   ],
   "source": [
    "n=int(input(\"enter the number of rows \"))\n",
    "i=1\n",
    "while i<=n:\n",
    "    j=1\n",
    "    while j<=i:\n",
    "        print(\"*\",end=\" \")\n",
    "        j+=1\n",
    "    print()\n",
    "    i+=1"
   ]
  },
  {
   "cell_type": "markdown",
   "id": "f9e294d4-d8dd-4362-9e76-77d4883012f8",
   "metadata": {},
   "source": [
    "7. Reversing while loop from 10 to 1"
   ]
  },
  {
   "cell_type": "code",
   "execution_count": 6,
   "id": "5d8d6e60-945b-4436-92de-41685c53fde6",
   "metadata": {},
   "outputs": [
    {
     "name": "stdout",
     "output_type": "stream",
     "text": [
      "10\n",
      "9\n",
      "8\n",
      "7\n",
      "6\n",
      "5\n",
      "4\n",
      "3\n",
      "2\n",
      "1\n"
     ]
    }
   ],
   "source": [
    "i=10\n",
    "while i>=1:\n",
    "    print(i)\n",
    "    i-=1"
   ]
  },
  {
   "cell_type": "markdown",
   "id": "860d8d3b-68b6-4b9f-bf69-38c7ea019370",
   "metadata": {},
   "source": [
    "8. Reversing using while loop"
   ]
  },
  {
   "cell_type": "code",
   "execution_count": 7,
   "id": "69e7bad2-1bbf-4d40-be4b-a42cc4488760",
   "metadata": {},
   "outputs": [
    {
     "name": "stdout",
     "output_type": "stream",
     "text": [
      "10 9 8 7 6 5 4 3 2 1 "
     ]
    }
   ],
   "source": [
    "i=10\n",
    "while i>=1:\n",
    "    print(i,end=\" \")\n",
    "    i-=1"
   ]
  },
  {
   "cell_type": "code",
   "execution_count": null,
   "id": "f20aabbd-acc3-4690-8cef-ce82df81fe26",
   "metadata": {},
   "outputs": [],
   "source": []
  }
 ],
 "metadata": {
  "kernelspec": {
   "display_name": "Python 3 (ipykernel)",
   "language": "python",
   "name": "python3"
  },
  "language_info": {
   "codemirror_mode": {
    "name": "ipython",
    "version": 3
   },
   "file_extension": ".py",
   "mimetype": "text/x-python",
   "name": "python",
   "nbconvert_exporter": "python",
   "pygments_lexer": "ipython3",
   "version": "3.10.8"
  }
 },
 "nbformat": 4,
 "nbformat_minor": 5
}
